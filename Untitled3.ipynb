{
  "nbformat": 4,
  "nbformat_minor": 0,
  "metadata": {
    "colab": {
      "name": "Untitled3.ipynb",
      "provenance": [],
      "authorship_tag": "ABX9TyOyqs8v9xmVb+wdoN9//sZh",
      "include_colab_link": true
    },
    "kernelspec": {
      "name": "python3",
      "display_name": "Python 3"
    },
    "language_info": {
      "name": "python"
    }
  },
  "cells": [
    {
      "cell_type": "markdown",
      "metadata": {
        "id": "view-in-github",
        "colab_type": "text"
      },
      "source": [
        "<a href=\"https://colab.research.google.com/github/devika1910/AIML_Bootcamp/blob/main/Untitled3.ipynb\" target=\"_parent\"><img src=\"https://colab.research.google.com/assets/colab-badge.svg\" alt=\"Open In Colab\"/></a>"
      ]
    },
    {
      "cell_type": "code",
      "execution_count": null,
      "metadata": {
        "colab": {
          "base_uri": "https://localhost:8080/"
        },
        "id": "uYL2i1cCvaj5",
        "outputId": "f331916e-c74f-4dbe-ade2-3b1556262329"
      },
      "outputs": [
        {
          "output_type": "stream",
          "name": "stdout",
          "text": [
            "['speed', 'cost', 'luxury', 'does_not_matter']\n"
          ]
        }
      ],
      "source": [
        "need=[\"speed\",\"cost\",\"luxury\",\"does_not_matter\"]\n",
        "print(need)\n",
        "sel=input(\"select ur convienet from list:\")\n",
        "if sel==\"speed\":\n",
        "  L1=[\"=200\",\">200<=800\",\">800<=1000\"]\n",
        "  print(L1)\n",
        "  cost=int(input(\"enter between what range of cost:\"))\n",
        "  if cost==200 :\n",
        "    print(\"ur available trains are\")\n",
        "    L2=[\"rajadhani\",\"padhmavathi\",\"navajivana\"]\n",
        "    for i in L2:\n",
        "      print(i)\n",
        "    print(\"please book ur ticket\")\n",
        "  elif cost>200 and cost<800 :\n",
        "    print(\"ur available trains are\")\n",
        "    L2=[\"garib_rath_express\",\"teja_express \",\"Gatimaan_express\"]\n",
        "    for i in L2:\n",
        "         print(i)\n",
        "         print(\"please book ur ticket\")\n",
        "  elif cost>800 and cost<=1000:\n",
        "    print(\"ur available trains are\")\n",
        "    L2=[\"telangana_ex\",\"Shantabdi_express\",\"AC\"]\n",
        "    for i in L2:\n",
        "      print(i)\n",
        "    print(\"please book ur ticket\")\n",
        "elif sel==\"cost\":\n",
        "  L1=[\"=100\",\">100<=600\",\">600<=800\"]\n",
        "  print(L1)\n",
        "  cost=int(input(\"enter between what range of cost:\"))\n",
        "  if cost==100 :\n",
        "    print(\"ur available trains are\")\n",
        "    L2=[\"samparak\",\"padhmavathi\",\"navajivana\"]\n",
        "    for i in L2:\n",
        "      print(i)\n",
        "    print(\"please book ur ticket\")\n",
        "  elif cost>100 and cost<600 :\n",
        "    print(\"ur available trains are\")\n",
        "    L2=[\"dakshith_express\",\"teja_express \",\"Gatimaan_express\"]\n",
        "    for i in L2:\n",
        "         print(i)\n",
        "         print(\"please book ur ticket\")\n",
        "  elif cost>600 and cost<=800:\n",
        "    print(\"ur available trains are\")\n",
        "    L2=[\"Duronto_express\",\"Shantabdi_express\",\"AC\"]\n",
        "    for i in L2:\n",
        "      print(i)\n",
        "    print(\"please book ur ticket\")\n",
        "elif sel==\"luxury\" :\n",
        "  L2={'gandhi': 600, 'AJAC': 500,'nakaiyak':800}\n",
        "  for i in L2:\n",
        "    print(i)\n",
        "    print(\"please book ur ticket of available trains\")"
      ]
    }
  ]
}