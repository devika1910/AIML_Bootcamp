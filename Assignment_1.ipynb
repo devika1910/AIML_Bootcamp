{
  "nbformat": 4,
  "nbformat_minor": 0,
  "metadata": {
    "colab": {
      "name": "Assignment 1.ipynb",
      "provenance": [],
      "collapsed_sections": [],
      "authorship_tag": "ABX9TyNhL6x18qCol4c1yiNi+ZMe",
      "include_colab_link": true
    },
    "kernelspec": {
      "name": "python3",
      "display_name": "Python 3"
    },
    "language_info": {
      "name": "python"
    }
  },
  "cells": [
    {
      "cell_type": "markdown",
      "metadata": {
        "id": "view-in-github",
        "colab_type": "text"
      },
      "source": [
        "<a href=\"https://colab.research.google.com/github/devika1910/AIML_Bootcamp/blob/main/Assignment_1.ipynb\" target=\"_parent\"><img src=\"https://colab.research.google.com/assets/colab-badge.svg\" alt=\"Open In Colab\"/></a>"
      ]
    },
    {
      "cell_type": "markdown",
      "source": [
        "1. Implement the methods of String with examples"
      ],
      "metadata": {
        "id": "IPRptFWo4CyJ"
      }
    },
    {
      "cell_type": "code",
      "source": [
        "st=\"welcome to AI&ML bootcamp\"\n",
        "print(st.upper())\n",
        "print(st.lower())\n",
        "print(st.swapcase())\n",
        "print(st.title())\n",
        "print(st.capitalize())\n",
        "statement=\"   step for your goal   \"\n",
        "print(statement.strip())\n",
        "print(statement.lstrip())\n",
        "print(statement.rstrip())\n",
        "\n"
      ],
      "metadata": {
        "colab": {
          "base_uri": "https://localhost:8080/"
        },
        "id": "k8Pmi2Ac4K9m",
        "outputId": "2c5fdcfc-f044-40dd-e828-a5a29e708d7e"
      },
      "execution_count": null,
      "outputs": [
        {
          "output_type": "stream",
          "name": "stdout",
          "text": [
            "WELCOME TO AI&ML BOOTCAMP\n",
            "welcome to ai&ml bootcamp\n",
            "WELCOME TO ai&ml BOOTCAMP\n",
            "Welcome To Ai&Ml Bootcamp\n",
            "Welcome to ai&ml bootcamp\n",
            "step for your goal\n",
            "step for your goal   \n",
            "   step for your goal\n"
          ]
        }
      ]
    },
    {
      "cell_type": "markdown",
      "source": [
        "2.Implement the methods of List with examples.\n"
      ],
      "metadata": {
        "id": "PcohWYSI7Vmg"
      }
    },
    {
      "cell_type": "code",
      "source": [
        "list=[\"Devika\",\"Sharanya\",\"harini\",\"pranay\"]\n",
        "list.append(\"akhila\")\n",
        "print(list)\n"
      ],
      "metadata": {
        "colab": {
          "base_uri": "https://localhost:8080/"
        },
        "id": "jyRmm0Gu7mxY",
        "outputId": "5e0570f7-5ab3-49f2-f753-1fc26f04b3e9"
      },
      "execution_count": null,
      "outputs": [
        {
          "output_type": "stream",
          "name": "stdout",
          "text": [
            "['Devika', 'Sharanya', 'harini', 'pranay', 'akhila']\n"
          ]
        }
      ]
    },
    {
      "cell_type": "code",
      "source": [
        "list.extend([\"team\",\"mates\",\"for\",\"AI&ML\",\"bootcamp\"])\n",
        "print(list)"
      ],
      "metadata": {
        "colab": {
          "base_uri": "https://localhost:8080/"
        },
        "id": "dtS49jib-PvS",
        "outputId": "f30e3da8-46fc-48ee-9257-6d08ee4a5fcd"
      },
      "execution_count": null,
      "outputs": [
        {
          "output_type": "stream",
          "name": "stdout",
          "text": [
            "['Devika', 'Sharanya', 'harini', 'pranay', 'akhila', 'team', 'mates', 'for', 'AI&ML', 'bootcamp']\n"
          ]
        }
      ]
    },
    {
      "cell_type": "code",
      "source": [
        "list.insert(0,\"we are\")\n",
        "print(list)"
      ],
      "metadata": {
        "colab": {
          "base_uri": "https://localhost:8080/"
        },
        "id": "E7OYEeNq_Fhe",
        "outputId": "205cc790-18a8-4bd3-bb10-78dd65b884ea"
      },
      "execution_count": null,
      "outputs": [
        {
          "output_type": "stream",
          "name": "stdout",
          "text": [
            "['we are', 'Devika', 'Sharanya', 'harini', 'pranay', 'akhila', 'team', 'mates', 'for', 'AI&ML', 'bootcamp']\n"
          ]
        }
      ]
    },
    {
      "cell_type": "code",
      "source": [
        "del list[0]\n",
        "print(list)"
      ],
      "metadata": {
        "colab": {
          "base_uri": "https://localhost:8080/"
        },
        "id": "MnS_WVdl_hP0",
        "outputId": "da6ada50-1f16-4f41-f1ca-930c5bbeade6"
      },
      "execution_count": null,
      "outputs": [
        {
          "output_type": "stream",
          "name": "stdout",
          "text": [
            "['Devika', 'Sharanya', 'harini', 'pranay', 'akhila', 'team', 'mates', 'for', 'AI&ML', 'bootcamp']\n"
          ]
        }
      ]
    },
    {
      "cell_type": "code",
      "source": [
        "del list[6:8]\n",
        "print(list)"
      ],
      "metadata": {
        "colab": {
          "base_uri": "https://localhost:8080/"
        },
        "id": "I67eY9BXADWT",
        "outputId": "650a3da5-6d83-4227-fab7-e7fe6c48ccba"
      },
      "execution_count": null,
      "outputs": [
        {
          "output_type": "stream",
          "name": "stdout",
          "text": [
            "['Devika', 'Sharanya', 'harini', 'pranay', 'akhila', 'team', 'AI&ML', 'bootcamp']\n"
          ]
        }
      ]
    },
    {
      "cell_type": "code",
      "source": [
        "list.remove(\"Devika\")\n",
        "print(list)"
      ],
      "metadata": {
        "colab": {
          "base_uri": "https://localhost:8080/"
        },
        "id": "zAtwYW3dA0gd",
        "outputId": "5184a75f-9990-42f1-ce43-38bff08b4661"
      },
      "execution_count": null,
      "outputs": [
        {
          "output_type": "stream",
          "name": "stdout",
          "text": [
            "['Sharanya', 'harini', 'pranay', 'akhila', 'team', 'AI&ML', 'bootcamp']\n"
          ]
        }
      ]
    },
    {
      "cell_type": "code",
      "source": [
        "list.pop(0)\n",
        "print(list)"
      ],
      "metadata": {
        "colab": {
          "base_uri": "https://localhost:8080/"
        },
        "id": "jSS5-lqoDpuO",
        "outputId": "218cb2bb-0c49-47ec-fd88-784ab41ec4ec"
      },
      "execution_count": null,
      "outputs": [
        {
          "output_type": "stream",
          "name": "stdout",
          "text": [
            "['harini', 'pranay', 'akhila', 'team', 'AI&ML', 'bootcamp']\n"
          ]
        }
      ]
    },
    {
      "cell_type": "code",
      "source": [
        "\n",
        "print(list.count(\"AI&ML\"))"
      ],
      "metadata": {
        "colab": {
          "base_uri": "https://localhost:8080/"
        },
        "id": "b--aGMK0EUNp",
        "outputId": "ca9c1842-a78a-495c-e0f4-99f9fb8ecadf"
      },
      "execution_count": null,
      "outputs": [
        {
          "output_type": "stream",
          "name": "stdout",
          "text": [
            "1\n"
          ]
        }
      ]
    },
    {
      "cell_type": "code",
      "source": [
        "print(len(list))"
      ],
      "metadata": {
        "colab": {
          "base_uri": "https://localhost:8080/"
        },
        "id": "mUnpv0zpFLV8",
        "outputId": "7a9ae118-4f85-486f-86fb-a569625bf86e"
      },
      "execution_count": null,
      "outputs": [
        {
          "output_type": "stream",
          "name": "stdout",
          "text": [
            "6\n"
          ]
        }
      ]
    },
    {
      "cell_type": "code",
      "source": [
        "list.sort()\n",
        "print(list)"
      ],
      "metadata": {
        "colab": {
          "base_uri": "https://localhost:8080/"
        },
        "id": "kRZpJ-LwFjQ6",
        "outputId": "861a2254-d2da-4643-8d26-5003778279c3"
      },
      "execution_count": null,
      "outputs": [
        {
          "output_type": "stream",
          "name": "stdout",
          "text": [
            "['AI&ML', 'akhila', 'bootcamp', 'harini', 'pranay', 'team']\n"
          ]
        }
      ]
    },
    {
      "cell_type": "code",
      "source": [
        "list.reverse()\n",
        "print(list)"
      ],
      "metadata": {
        "colab": {
          "base_uri": "https://localhost:8080/"
        },
        "id": "bVjKL37bFz6z",
        "outputId": "ba0fbde1-9977-4998-b190-dd96dbbf73f2"
      },
      "execution_count": null,
      "outputs": [
        {
          "output_type": "stream",
          "name": "stdout",
          "text": [
            "['team', 'pranay', 'harini', 'bootcamp', 'akhila', 'AI&ML']\n"
          ]
        }
      ]
    },
    {
      "cell_type": "code",
      "source": [
        "print(list[::-1])"
      ],
      "metadata": {
        "colab": {
          "base_uri": "https://localhost:8080/"
        },
        "id": "eqsG_QBsF9Cg",
        "outputId": "6aa4528a-38bf-4712-c39c-47f069fe0676"
      },
      "execution_count": null,
      "outputs": [
        {
          "output_type": "stream",
          "name": "stdout",
          "text": [
            "['AI&ML', 'akhila', 'bootcamp', 'harini', 'pranay', 'team']\n"
          ]
        }
      ]
    },
    {
      "cell_type": "code",
      "source": [
        "list.clear()\n",
        "print(list)"
      ],
      "metadata": {
        "colab": {
          "base_uri": "https://localhost:8080/"
        },
        "id": "ayMyQPufG1Kv",
        "outputId": "743b8d19-8f3b-4465-e74b-f62b96cfecba"
      },
      "execution_count": null,
      "outputs": [
        {
          "output_type": "stream",
          "name": "stdout",
          "text": [
            "[]\n"
          ]
        }
      ]
    },
    {
      "cell_type": "markdown",
      "source": [
        "3. Implement the methods of Tuple with examples."
      ],
      "metadata": {
        "id": "vMf_MnL_HVl5"
      }
    },
    {
      "cell_type": "code",
      "source": [
        "day1=(\"python\",13.7,100,5,9,100,100)\n",
        "print(day1.count(100))\n",
        "print(day1.index(5))\n",
        "\n"
      ],
      "metadata": {
        "colab": {
          "base_uri": "https://localhost:8080/"
        },
        "id": "8519I61MHccr",
        "outputId": "6a80f49c-d7db-4d3c-c0ad-38f476375322"
      },
      "execution_count": null,
      "outputs": [
        {
          "output_type": "stream",
          "name": "stdout",
          "text": [
            "3\n",
            "3\n"
          ]
        }
      ]
    },
    {
      "cell_type": "code",
      "source": [
        "day2=(1,8,9,600,8)\n",
        "print(max(day2))\n",
        "print(min(day2))\n",
        "print(len(day2))"
      ],
      "metadata": {
        "colab": {
          "base_uri": "https://localhost:8080/"
        },
        "id": "giTY9unvLSDz",
        "outputId": "cc9895da-9dfd-42f8-8da1-6b91679c380d"
      },
      "execution_count": null,
      "outputs": [
        {
          "output_type": "stream",
          "name": "stdout",
          "text": [
            "600\n",
            "1\n",
            "5\n"
          ]
        }
      ]
    },
    {
      "cell_type": "markdown",
      "source": [
        "4. Implement the methods of Dictionary with examples."
      ],
      "metadata": {
        "id": "NjWcZsEQMJyo"
      }
    },
    {
      "cell_type": "code",
      "source": [
        "data={'name':'devika','branch':'cse','hallno':'2108','year':'3'} #static declaration\n",
        "print(data['name'])\n",
        "print(data.keys())\n",
        "print(data.values())\n",
        "print(data.get('name'))"
      ],
      "metadata": {
        "colab": {
          "base_uri": "https://localhost:8080/"
        },
        "id": "YRdcW0IjML8Y",
        "outputId": "ee4e8962-25f8-4140-e2a5-eb4714e63eec"
      },
      "execution_count": null,
      "outputs": [
        {
          "output_type": "stream",
          "name": "stdout",
          "text": [
            "devika\n",
            "dict_keys(['name', 'branch', 'hallno', 'year'])\n",
            "dict_values(['devika', 'cse', '2108', '3'])\n",
            "devika\n"
          ]
        }
      ]
    },
    {
      "cell_type": "markdown",
      "source": [
        "5. Implement the methods of Set with examples.\n"
      ],
      "metadata": {
        "id": "jwkHjJ0XPhea"
      }
    },
    {
      "cell_type": "code",
      "source": [
        "set={\"ssd\",250,600,2040}\n",
        "set.add(2)\n",
        "print(set)"
      ],
      "metadata": {
        "colab": {
          "base_uri": "https://localhost:8080/"
        },
        "id": "I_BIR2dhPnUw",
        "outputId": "2f319a84-d803-4751-9304-b3f279671b3a"
      },
      "execution_count": null,
      "outputs": [
        {
          "output_type": "stream",
          "name": "stdout",
          "text": [
            "{2, 600, 'ssd', 2040, 250}\n"
          ]
        }
      ]
    },
    {
      "cell_type": "code",
      "source": [
        "set.update([250,600,1080])\n",
        "print(set)"
      ],
      "metadata": {
        "colab": {
          "base_uri": "https://localhost:8080/"
        },
        "id": "_q7hR0nHR45s",
        "outputId": "9da75c0c-603f-4730-e269-47f29238f5bc"
      },
      "execution_count": null,
      "outputs": [
        {
          "output_type": "stream",
          "name": "stdout",
          "text": [
            "{2, 1080, 600, 'ssd', 2040, 250}\n"
          ]
        }
      ]
    },
    {
      "cell_type": "code",
      "source": [
        "set.discard(\"ssd\")\n",
        "print(set)"
      ],
      "metadata": {
        "colab": {
          "base_uri": "https://localhost:8080/"
        },
        "id": "AaI1ga_yTW9B",
        "outputId": "68956403-3cbd-438c-9966-c7f4698301c2"
      },
      "execution_count": null,
      "outputs": [
        {
          "output_type": "stream",
          "name": "stdout",
          "text": [
            "{2, 1080, 600, 2040, 250}\n"
          ]
        }
      ]
    },
    {
      "cell_type": "code",
      "source": [
        "set.remove(1080)\n",
        "print(set)"
      ],
      "metadata": {
        "colab": {
          "base_uri": "https://localhost:8080/"
        },
        "id": "30bi_HapTmmq",
        "outputId": "0b697912-0d5b-4082-cdfd-60c3b1006ba8"
      },
      "execution_count": null,
      "outputs": [
        {
          "output_type": "stream",
          "name": "stdout",
          "text": [
            "{2, 600, 2040, 250}\n"
          ]
        }
      ]
    },
    {
      "cell_type": "code",
      "source": [
        "set2={999,111,222,888}\n",
        "print(set.union(set2))"
      ],
      "metadata": {
        "colab": {
          "base_uri": "https://localhost:8080/"
        },
        "id": "vQdJaiF0URKr",
        "outputId": "fe645f8b-1dc3-4ffc-d935-1aa2a5eac152"
      },
      "execution_count": null,
      "outputs": [
        {
          "output_type": "stream",
          "name": "stdout",
          "text": [
            "{2, 2040, 999, 111, 888, 600, 250, 222}\n"
          ]
        }
      ]
    },
    {
      "cell_type": "code",
      "source": [
        "print(set|set2)"
      ],
      "metadata": {
        "colab": {
          "base_uri": "https://localhost:8080/"
        },
        "id": "zXKIQ786Uunz",
        "outputId": "dbf5d668-b83a-40ba-d5da-5141aa0f14fe"
      },
      "execution_count": null,
      "outputs": [
        {
          "output_type": "stream",
          "name": "stdout",
          "text": [
            "{2, 2040, 999, 111, 888, 600, 250, 222}\n"
          ]
        }
      ]
    },
    {
      "cell_type": "markdown",
      "source": [
        "intersection"
      ],
      "metadata": {
        "id": "s_LyxWwnVOxQ"
      }
    },
    {
      "cell_type": "code",
      "source": [
        "print(set&set2)"
      ],
      "metadata": {
        "colab": {
          "base_uri": "https://localhost:8080/"
        },
        "id": "E9qS0G42VTL6",
        "outputId": "e429726b-df25-48ea-a8a4-8da03b1df81e"
      },
      "execution_count": null,
      "outputs": [
        {
          "output_type": "stream",
          "name": "stdout",
          "text": [
            "set()\n"
          ]
        }
      ]
    },
    {
      "cell_type": "code",
      "source": [
        "print(set.intersection(set2))"
      ],
      "metadata": {
        "colab": {
          "base_uri": "https://localhost:8080/"
        },
        "id": "-zd3XNQqVlpo",
        "outputId": "bcb22ee1-66d6-4020-808f-a1975028e776"
      },
      "execution_count": null,
      "outputs": [
        {
          "output_type": "stream",
          "name": "stdout",
          "text": [
            "set()\n"
          ]
        }
      ]
    },
    {
      "cell_type": "code",
      "source": [
        "print(set2.intersection(set))"
      ],
      "metadata": {
        "colab": {
          "base_uri": "https://localhost:8080/"
        },
        "id": "VBA1xD04VyqB",
        "outputId": "e2d4c2b8-d797-4478-9b68-7c81e01372ea"
      },
      "execution_count": null,
      "outputs": [
        {
          "output_type": "stream",
          "name": "stdout",
          "text": [
            "set()\n"
          ]
        }
      ]
    },
    {
      "cell_type": "markdown",
      "source": [
        "difference"
      ],
      "metadata": {
        "id": "qXTJFKoAV3VK"
      }
    },
    {
      "cell_type": "code",
      "source": [
        "print(set-set2)"
      ],
      "metadata": {
        "colab": {
          "base_uri": "https://localhost:8080/"
        },
        "id": "vf9pWxs0V5lJ",
        "outputId": "e745b650-2c2d-4c01-b052-e888f2af7dda"
      },
      "execution_count": null,
      "outputs": [
        {
          "output_type": "stream",
          "name": "stdout",
          "text": [
            "{600, 250, 2, 2040}\n"
          ]
        }
      ]
    },
    {
      "cell_type": "code",
      "source": [
        "print(set.difference(set2))"
      ],
      "metadata": {
        "colab": {
          "base_uri": "https://localhost:8080/"
        },
        "id": "y5Fo31r0WHp-",
        "outputId": "80341b3b-fced-4282-8635-0499d1b364c1"
      },
      "execution_count": null,
      "outputs": [
        {
          "output_type": "stream",
          "name": "stdout",
          "text": [
            "{600, 250, 2, 2040}\n"
          ]
        }
      ]
    },
    {
      "cell_type": "code",
      "source": [
        "print(set2.difference(set))"
      ],
      "metadata": {
        "colab": {
          "base_uri": "https://localhost:8080/"
        },
        "id": "aGiuGEEwWTlM",
        "outputId": "d03dad96-2636-489c-f5d9-c8d3920b76d2"
      },
      "execution_count": null,
      "outputs": [
        {
          "output_type": "stream",
          "name": "stdout",
          "text": [
            "{888, 999, 222, 111}\n"
          ]
        }
      ]
    },
    {
      "cell_type": "markdown",
      "source": [
        "6. Write a python program to convert Decimal to Binary, Octal and Hexadecimal with\n",
        "direct method."
      ],
      "metadata": {
        "id": "1GqrctvsWe6b"
      }
    },
    {
      "cell_type": "code",
      "source": [
        "dec = int(input(\"Enter an integer: \"))\n",
        "print(\"The decimal value of is :\", dec)\n",
        "print(\"decimal to binary:\",bin(dec)) \n"
      ],
      "metadata": {
        "colab": {
          "base_uri": "https://localhost:8080/"
        },
        "id": "bUzBsxRXWmdE",
        "outputId": "b093ec73-670b-4b76-e480-0981f1aa1c9a"
      },
      "execution_count": null,
      "outputs": [
        {
          "output_type": "stream",
          "name": "stdout",
          "text": [
            "Enter an integer: 10\n",
            "The decimal value of is : 10\n",
            "decimal to binary: 0b1010\n"
          ]
        }
      ]
    },
    {
      "cell_type": "code",
      "source": [
        "print(\"decimal to  octal:\",oct(dec))\n",
        "\n",
        "print(\"decimal to hexadecimal:\",hex(dec),)"
      ],
      "metadata": {
        "colab": {
          "base_uri": "https://localhost:8080/"
        },
        "id": "Yrc_PrwfZTDq",
        "outputId": "4392825c-9d5e-4397-eaee-a57d33ceb85d"
      },
      "execution_count": null,
      "outputs": [
        {
          "output_type": "stream",
          "name": "stdout",
          "text": [
            "decimal to  octal: 0o12\n",
            "decimal to hexadecimal: 0xa\n"
          ]
        }
      ]
    },
    {
      "cell_type": "markdown",
      "source": [
        "7. Implement Arithmetic operators with examples.\n"
      ],
      "metadata": {
        "id": "lFuLsoLNZ4Io"
      }
    },
    {
      "cell_type": "code",
      "source": [
        "marks1 = int(input(\"Enter of marks1: \"))\n",
        "marks2 = int(input(\"Enter of marks2: \"))\n",
        "print(marks1+marks2)\n",
        "print(marks1-marks2)\n",
        "print(marks1*marks2)\n",
        "print(marks1/marks2)\n",
        "print(marks1//marks2)\n",
        "print(marks1%marks2)\n",
        "print(marks1**marks2)"
      ],
      "metadata": {
        "colab": {
          "base_uri": "https://localhost:8080/"
        },
        "id": "94P51iEWZ9Bq",
        "outputId": "a7cf7771-6f0f-45dd-f142-20706d049fd9"
      },
      "execution_count": null,
      "outputs": [
        {
          "output_type": "stream",
          "name": "stdout",
          "text": [
            "Enter of marks1: 5\n",
            "Enter of marks2: 5\n",
            "10\n",
            "0\n",
            "25\n",
            "1.0\n",
            "1\n",
            "0\n",
            "3125\n"
          ]
        }
      ]
    },
    {
      "cell_type": "markdown",
      "source": [
        "8. Implement Assignment operators with examples."
      ],
      "metadata": {
        "id": "rjcqhCuLbNcK"
      }
    },
    {
      "cell_type": "code",
      "source": [
        "marks1 = int(input(\"Enter of marks1: \"))\n",
        "marks2 = int(input(\"Enter of marks2: \"))\n",
        "total=marks1+marks2\n",
        "print(total)\n",
        "total+=marks1\n",
        "print(total)\n",
        "total-=marks1\n",
        "print(total)\n",
        "total*=marks1\n",
        "print(total)\n",
        "total/=marks1\n",
        "print(total)\n",
        "total%=marks1\n",
        "print(total)\n",
        "total**=marks1\n",
        "print(total)"
      ],
      "metadata": {
        "colab": {
          "base_uri": "https://localhost:8080/"
        },
        "id": "JA0XdUwEbTn-",
        "outputId": "f1d129f5-ea2d-481f-af6c-d63db161b044"
      },
      "execution_count": null,
      "outputs": [
        {
          "output_type": "stream",
          "name": "stdout",
          "text": [
            "Enter of marks1: 2\n",
            "Enter of marks2: 2\n",
            "4\n",
            "6\n",
            "4\n",
            "8\n",
            "4.0\n",
            "0.0\n",
            "0.0\n"
          ]
        }
      ]
    },
    {
      "cell_type": "markdown",
      "source": [
        "9. Implement Comparison operators with examples."
      ],
      "metadata": {
        "id": "1gMa5Dhyc2Sb"
      }
    },
    {
      "cell_type": "code",
      "source": [
        "age1 = int(input(\"Enter of age1: \"))\n",
        "age2 = int(input(\"Enter of age2: \"))\n",
        "print(age1==age2)\n"
      ],
      "metadata": {
        "id": "qXws2RWvc8gg",
        "colab": {
          "base_uri": "https://localhost:8080/"
        },
        "outputId": "aa289870-99ae-4a46-b9c4-ef9da10c4f32"
      },
      "execution_count": 1,
      "outputs": [
        {
          "output_type": "stream",
          "name": "stdout",
          "text": [
            "Enter of age1: 5\n",
            "Enter of age2: 5\n",
            "True\n"
          ]
        }
      ]
    },
    {
      "cell_type": "code",
      "source": [
        "print(age1!=age2)"
      ],
      "metadata": {
        "colab": {
          "base_uri": "https://localhost:8080/"
        },
        "id": "ncNUkFKZ-o6u",
        "outputId": "3844b96f-6d35-4d63-99d7-e94aa24eabe7"
      },
      "execution_count": 2,
      "outputs": [
        {
          "output_type": "stream",
          "name": "stdout",
          "text": [
            "False\n"
          ]
        }
      ]
    },
    {
      "cell_type": "code",
      "source": [
        "print(age1>age2)\n",
        "print(age1<age2)\n",
        "print(age1>=age2)\n",
        "print(age1<=age2)"
      ],
      "metadata": {
        "colab": {
          "base_uri": "https://localhost:8080/"
        },
        "id": "dWz17uXJ-zx4",
        "outputId": "d0787913-1af3-4b4f-e379-04ae1b47185b"
      },
      "execution_count": 3,
      "outputs": [
        {
          "output_type": "stream",
          "name": "stdout",
          "text": [
            "False\n",
            "False\n",
            "True\n",
            "True\n"
          ]
        }
      ]
    },
    {
      "cell_type": "markdown",
      "source": [
        "10. Implement Logical operators with examples"
      ],
      "metadata": {
        "id": "_WSX0zYV_LMl"
      }
    },
    {
      "cell_type": "code",
      "source": [
        "\n",
        "test1=True\n",
        "test2=False\n",
        "print(\"test1 and test2 is\",test1 and test2)\n",
        "print(\"test1 or test2 is\",test1 or test2)\n",
        "print(\"test1 not is\",not test1)\n"
      ],
      "metadata": {
        "colab": {
          "base_uri": "https://localhost:8080/"
        },
        "id": "rN49SynN_R0u",
        "outputId": "dcb310be-3354-472a-ddb5-d93a3a8c027e"
      },
      "execution_count": 5,
      "outputs": [
        {
          "output_type": "stream",
          "name": "stdout",
          "text": [
            "test1 and test2 is False\n",
            "test1 or test2 is True\n",
            "test1 not is False\n"
          ]
        }
      ]
    },
    {
      "cell_type": "markdown",
      "source": [
        "11. Implement Bitwise operators with examples"
      ],
      "metadata": {
        "id": "2W4eVJrnASlZ"
      }
    },
    {
      "cell_type": "code",
      "source": [
        "cost1=12\n",
        "cost2=7\n",
        "print(cost1&cost2)\n",
        "print(cost1^cost2)\n",
        "print(cost1|cost2)\n",
        "print(~cost1)\n",
        "print(cost1>>2)\n",
        "print(cost1<<4)\n"
      ],
      "metadata": {
        "colab": {
          "base_uri": "https://localhost:8080/"
        },
        "id": "oG50z05ZATmK",
        "outputId": "26d8db0c-c275-45c8-d048-4aab3fe35e63"
      },
      "execution_count": 9,
      "outputs": [
        {
          "output_type": "stream",
          "name": "stdout",
          "text": [
            "4\n",
            "11\n",
            "15\n",
            "-13\n",
            "3\n",
            "192\n"
          ]
        }
      ]
    },
    {
      "cell_type": "markdown",
      "source": [
        "12. Implement Membership operators with examples."
      ],
      "metadata": {
        "id": "eiYp38r7CKq8"
      }
    },
    {
      "cell_type": "code",
      "source": [
        "st1=\"python language\"\n",
        "st2={6:'name',11:'b'}\n",
        "print(st1)\n",
        "print('l' in st1)\n",
        "print(st2)\n",
        "print(6 in st2)\n",
        "print(11 in st2)"
      ],
      "metadata": {
        "colab": {
          "base_uri": "https://localhost:8080/"
        },
        "id": "lcUQsNfOCJJ0",
        "outputId": "b5ebd415-1675-4162-e422-50c2594e83e2"
      },
      "execution_count": 19,
      "outputs": [
        {
          "output_type": "stream",
          "name": "stdout",
          "text": [
            "python language\n",
            "True\n",
            "{6: 'name', 11: 'b'}\n",
            "True\n",
            "True\n"
          ]
        }
      ]
    },
    {
      "cell_type": "markdown",
      "source": [
        "13. Implement Identity operators with examples\n"
      ],
      "metadata": {
        "id": "sVXJuiAxFLes"
      }
    },
    {
      "cell_type": "code",
      "source": [
        "data1=33\n",
        "st1=33\n",
        "data2=\"priority\"\n",
        "st2=\"priority\"\n",
        "data3=[111,222,333]\n",
        "st3=[111,222,333]\n",
        "print(data1 is not st1)\n",
        "print(data1 is  st1)\n",
        "print(data2 is st2)\n",
        "print(data2 is not st2)\n",
        "print(data3 is st3)\n",
        "print(data3 is not st3)"
      ],
      "metadata": {
        "colab": {
          "base_uri": "https://localhost:8080/"
        },
        "id": "sNioBHxYFTj8",
        "outputId": "379d64fe-a166-4aa8-8eb0-1fb2bcd4e0a1"
      },
      "execution_count": 21,
      "outputs": [
        {
          "output_type": "stream",
          "name": "stdout",
          "text": [
            "False\n",
            "True\n",
            "True\n",
            "False\n",
            "False\n",
            "True\n"
          ]
        }
      ]
    },
    {
      "cell_type": "markdown",
      "source": [
        "14. Demonstrate Negative indexing for List and apply slicing."
      ],
      "metadata": {
        "id": "_FX-LbncHBf5"
      }
    },
    {
      "cell_type": "markdown",
      "source": [
        "negative indexing"
      ],
      "metadata": {
        "id": "Oz9jnQJTK2lF"
      }
    },
    {
      "cell_type": "code",
      "source": [
        "places=['warangal','hyderabad','karimnagar','hanamkonda']\n",
        "print(places[::-1])\n",
        "print(places[-1])\n",
        "print(places[-2])\n",
        "print(places[-3])\n",
        "country=['india','USA','UK','Japan']\n",
        "print(\"indexing\")\n",
        "print(country[1])\n",
        "print(\" negative indexing\")\n",
        "print(country[-1])\n",
        "print(country[-2])\n",
        "print(country[2])"
      ],
      "metadata": {
        "colab": {
          "base_uri": "https://localhost:8080/"
        },
        "id": "ORBgIbFzHJWt",
        "outputId": "a7e09755-6e93-43ba-add2-bf7cd46e9993"
      },
      "execution_count": 46,
      "outputs": [
        {
          "output_type": "stream",
          "name": "stdout",
          "text": [
            "['hanamkonda', 'karimnagar', 'hyderabad', 'warangal']\n",
            "hanamkonda\n",
            "karimnagar\n",
            "hyderabad\n",
            "indexing\n",
            "USA\n",
            " negative indexing\n",
            "Japan\n",
            "UK\n",
            "UK\n"
          ]
        }
      ]
    },
    {
      "cell_type": "markdown",
      "source": [
        "slicing"
      ],
      "metadata": {
        "id": "P0TBfd6GK9gD"
      }
    },
    {
      "cell_type": "code",
      "source": [
        "print(places[0:4:1]) \n",
        "print(places[0:4:2])\n",
        "print(places[0:4:3]) \n",
        "print(places[0:4:4]) \n",
        "print(places[-1::]) \n",
        "print(places[-5:-1:]) "
      ],
      "metadata": {
        "colab": {
          "base_uri": "https://localhost:8080/"
        },
        "id": "2__NTBKSLA-a",
        "outputId": "3fb1103a-a419-4800-f745-5a3dc58c560c"
      },
      "execution_count": 44,
      "outputs": [
        {
          "output_type": "stream",
          "name": "stdout",
          "text": [
            "['warangal', 'hyderabad', 'karimnagar', 'hanamkonda']\n",
            "['warangal', 'karimnagar']\n",
            "['warangal', 'hanamkonda']\n",
            "['warangal']\n",
            "['hanamkonda']\n",
            "['warangal', 'hyderabad', 'karimnagar']\n"
          ]
        }
      ]
    },
    {
      "cell_type": "markdown",
      "source": [
        "15. Predict the output for the given code snippet and justify the result."
      ],
      "metadata": {
        "id": "YqCGxaypSKGs"
      }
    },
    {
      "cell_type": "code",
      "source": [
        "print('A series of characters designated as one object known as a string'[::-1][4::3])\n",
        "print(\"----------\")\n",
        "print('Welcome to python training program'[3:10][::-1])\n",
        "#Given print statement [::-1] reverse the whole string\n",
        "#Given print statement [::-1] reverse the whole string\n",
        "#[3:10] slicing operator starts from 3rd index and stops at 10th index and the it will reverse the string."
      ],
      "metadata": {
        "colab": {
          "base_uri": "https://localhost:8080/"
        },
        "id": "VEaDgieESJOx",
        "outputId": "e501037b-e2e2-4021-d817-172ed8743a93"
      },
      "execution_count": 47,
      "outputs": [
        {
          "output_type": "stream",
          "name": "stdout",
          "text": [
            "taawkcbe  tgestrcoeeA\n",
            "----------\n",
            "ot emoc\n"
          ]
        }
      ]
    },
    {
      "cell_type": "markdown",
      "source": [
        ""
      ],
      "metadata": {
        "id": "pUB2t6KcUJIW"
      }
    },
    {
      "cell_type": "markdown",
      "source": [
        "16. Write a python code to get desired output"
      ],
      "metadata": {
        "id": "nbRQW7X-UJMT"
      }
    },
    {
      "cell_type": "code",
      "source": [
        "p_phrase=\"was it a car or a cat I saw\"\n",
        "str=p_phrase.upper()\n",
        "print(str[:3:]+\" \"+str[4:5:]+\" \"+str[5:6:]+str[7:8:]+str[9:10:]+\" \"+str[10:11:]+\" \"+str[11:12:]+str[13:14]+\" \"+str[14:15]+str[16:17:]+str[18:19:]+\" \"+str[19:20:]+\" \"+str[20:21:]+str[22:23:]+\" \"+str[24::])\n"
      ],
      "metadata": {
        "colab": {
          "base_uri": "https://localhost:8080/"
        },
        "id": "8Kgr0HQxUPfP",
        "outputId": "ae287fe0-9915-4760-b00c-ae3584b69335"
      },
      "execution_count": 83,
      "outputs": [
        {
          "output_type": "stream",
          "name": "stdout",
          "text": [
            "WAS I TAC A RO RAC A TI SAW\n"
          ]
        }
      ]
    },
    {
      "cell_type": "markdown",
      "source": [
        "17. You are required to generate a word similar to ZOO, X and Y that denote the number \n",
        "of Zs and Os respectively. The generated word similar to ZOO where Y= 2 * X. \n",
        " Input X= 2 Output ZZOOOO \n",
        " Input X= 5 Output ZZZZZOOOOOOOOOO"
      ],
      "metadata": {
        "id": "Sqm893NLXrkg"
      }
    },
    {
      "cell_type": "code",
      "source": [
        "x=int(input(\"length of x\"))\n",
        "a=('Z'*x)\n",
        "#print(a)\n",
        "y=len(a)\n",
        "z=2*y\n",
        "y=('O'*z)\n",
        "#print(y)\n",
        "print(a+y)"
      ],
      "metadata": {
        "colab": {
          "base_uri": "https://localhost:8080/"
        },
        "id": "iBTfswIsXVYS",
        "outputId": "cae08521-54a1-4646-bd6f-4cce5b021dc3"
      },
      "execution_count": 48,
      "outputs": [
        {
          "output_type": "stream",
          "name": "stdout",
          "text": [
            "length of x5\n",
            "ZZZZZOOOOOOOOOO\n"
          ]
        }
      ]
    }
  ]
}