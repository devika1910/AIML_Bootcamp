{
  "nbformat": 4,
  "nbformat_minor": 0,
  "metadata": {
    "colab": {
      "name": "day3.ipynb",
      "provenance": [],
      "authorship_tag": "ABX9TyN4Wu2oVVtCMFCQC18tg42X",
      "include_colab_link": true
    },
    "kernelspec": {
      "name": "python3",
      "display_name": "Python 3"
    },
    "language_info": {
      "name": "python"
    }
  },
  "cells": [
    {
      "cell_type": "markdown",
      "metadata": {
        "id": "view-in-github",
        "colab_type": "text"
      },
      "source": [
        "<a href=\"https://colab.research.google.com/github/devika1910/AIML_Bootcamp/blob/main/day3.ipynb\" target=\"_parent\"><img src=\"https://colab.research.google.com/assets/colab-badge.svg\" alt=\"Open In Colab\"/></a>"
      ]
    },
    {
      "cell_type": "markdown",
      "source": [
        "#class & object"
      ],
      "metadata": {
        "id": "sibvgHNlBs14"
      }
    },
    {
      "cell_type": "code",
      "source": [
        "class CO:\n",
        "  def subn(self,a,b):\n",
        "    return a-b\n",
        "  def addn(self,a,b):\n",
        "    return a+b\n",
        "obj=CO()\n",
        "print(\"Addtion of 2 numbers is\",obj.addn(5,5))\n",
        "print(\"Sub of 2 numbers is\",obj.subn(10,5))\n"
      ],
      "metadata": {
        "colab": {
          "base_uri": "https://localhost:8080/"
        },
        "id": "A6lffgIRhxge",
        "outputId": "757e7c09-1b9a-4c32-cbdf-f072ec89ae76"
      },
      "execution_count": 1,
      "outputs": [
        {
          "output_type": "stream",
          "name": "stdout",
          "text": [
            "Addtion of 2 numbers is 10\n",
            "Sub of 2 numbers is 5\n"
          ]
        }
      ]
    },
    {
      "cell_type": "markdown",
      "source": [
        ""
      ],
      "metadata": {
        "id": "yCCRH4QvCHWS"
      }
    },
    {
      "cell_type": "code",
      "source": [
        "class C1:\n",
        "  '''description'''\n",
        "  class_var=\"demonstrates class creation\"\n",
        "  def cm(self):\n",
        "    return\"method invocation\"\n",
        "  def __str__(self):\n",
        "    return \"returns string to object\""
      ],
      "metadata": {
        "id": "WtfMFchIE0jf"
      },
      "execution_count": 2,
      "outputs": []
    },
    {
      "cell_type": "code",
      "source": [
        "obj1=C1()\n",
        "print(obj1.class_var)\n",
        "print(obj1.cm())\n",
        "print(obj1)"
      ],
      "metadata": {
        "colab": {
          "base_uri": "https://localhost:8080/"
        },
        "id": "rPAoybbXFeyx",
        "outputId": "51187d4f-be82-4021-8fb8-c0abef486a23"
      },
      "execution_count": 3,
      "outputs": [
        {
          "output_type": "stream",
          "name": "stdout",
          "text": [
            "demonstrates class creation\n",
            "method invocation\n",
            "returns string to object\n"
          ]
        }
      ]
    },
    {
      "cell_type": "markdown",
      "source": [
        "#inheritance\n",
        "#single"
      ],
      "metadata": {
        "id": "LCpvYuTTFqXe"
      }
    },
    {
      "cell_type": "code",
      "source": [
        "class Animal:\n",
        "  def animal_sounds(self):\n",
        "    return \"makes sound\"\n",
        "class Cat(Animal):\n",
        "  def cat_sound(self):\n",
        "    return self.animal_sounds()+\"MEOW\"\n",
        "  def __str__(self):\n",
        "    return \"CAT\"\n",
        "catobj=Cat()\n",
        "print(catobj,catobj.cat_sound())"
      ],
      "metadata": {
        "colab": {
          "base_uri": "https://localhost:8080/"
        },
        "id": "xEXOQC_TFlKq",
        "outputId": "3d6d6d10-2eb0-4867-ed2b-6c353c1bb228"
      },
      "execution_count": 4,
      "outputs": [
        {
          "output_type": "stream",
          "name": "stdout",
          "text": [
            "CAT makes soundMEOW\n"
          ]
        }
      ]
    },
    {
      "cell_type": "code",
      "source": [
        "#hierarchial\n",
        "class Animal:\n",
        "  def animal_sounds(self):\n",
        "    return \"makes sound\"\n",
        "class Cat(Animal):\n",
        "  def cat_sound(self):\n",
        "    return self.animal_sounds()+\" MEOW\"\n",
        "  def __str__(self):\n",
        "    return \"CAT\""
      ],
      "metadata": {
        "id": "YtWJNj_HFv_y"
      },
      "execution_count": 5,
      "outputs": []
    },
    {
      "cell_type": "code",
      "source": [
        "class Dog(Animal):\n",
        "  def dog_sound(self):\n",
        "    return self.animal_sounds()+\" BOW\"\n",
        "  def __str__(self):\n",
        "    return \"DOG\"\n"
      ],
      "metadata": {
        "id": "AL4eT5oVF29I"
      },
      "execution_count": 6,
      "outputs": []
    },
    {
      "cell_type": "code",
      "source": [
        "catobj=Cat()\n",
        "print(catobj,catobj.cat_sound())\n",
        "dogobj=Dog()\n",
        "print(dogobj,dogobj.dog_sound())"
      ],
      "metadata": {
        "colab": {
          "base_uri": "https://localhost:8080/"
        },
        "id": "aHehGrHRF8j_",
        "outputId": "f4d0be75-5eed-42c3-e7fa-71dfe9ee9ad5"
      },
      "execution_count": 7,
      "outputs": [
        {
          "output_type": "stream",
          "name": "stdout",
          "text": [
            "CAT makes sound MEOW\n",
            "DOG makes sound BOW\n"
          ]
        }
      ]
    },
    {
      "cell_type": "code",
      "source": [
        "#multilevel inheritance\n",
        "class Animal:\n",
        "  def animal_sounds(self):\n",
        "    return \"makes sound\"\n",
        "class Cat(Animal):\n",
        "  def cat_sound(self):\n",
        "    return self.animal_sounds()+\" MEOW\"\n",
        "class CatColor(Cat):\n",
        "  def __str__(self):\n",
        "    return \"CAT\"\n",
        "  def color(self):\n",
        "    return \"color is black\""
      ],
      "metadata": {
        "id": "twnZzfaoGDxD"
      },
      "execution_count": 8,
      "outputs": []
    },
    {
      "cell_type": "code",
      "source": [
        "catcolor=CatColor()\n",
        "print(catcolor,catcolor.cat_sound())\n",
        "print(catcolor,catcolor.color())"
      ],
      "metadata": {
        "colab": {
          "base_uri": "https://localhost:8080/"
        },
        "id": "GjymUP5RGPPZ",
        "outputId": "c0550a77-38b7-48af-e965-c0346bf5281f"
      },
      "execution_count": 9,
      "outputs": [
        {
          "output_type": "stream",
          "name": "stdout",
          "text": [
            "CAT makes sound MEOW\n",
            "CAT color is black\n"
          ]
        }
      ]
    },
    {
      "cell_type": "markdown",
      "source": [
        "#exceptions"
      ],
      "metadata": {
        "id": "rh05oTGBGbYJ"
      }
    },
    {
      "cell_type": "code",
      "source": [
        "#name error\n",
        "print(x)"
      ],
      "metadata": {
        "colab": {
          "base_uri": "https://localhost:8080/",
          "height": 182
        },
        "id": "bAlDk87EGRbN",
        "outputId": "06b8629b-4d75-419c-8267-4def3dacb29c"
      },
      "execution_count": 10,
      "outputs": [
        {
          "output_type": "error",
          "ename": "NameError",
          "evalue": "ignored",
          "traceback": [
            "\u001b[0;31m---------------------------------------------------------------------------\u001b[0m",
            "\u001b[0;31mNameError\u001b[0m                                 Traceback (most recent call last)",
            "\u001b[0;32m<ipython-input-10-d410e5ddfd9c>\u001b[0m in \u001b[0;36m<module>\u001b[0;34m()\u001b[0m\n\u001b[1;32m      1\u001b[0m \u001b[0;31m#name error\u001b[0m\u001b[0;34m\u001b[0m\u001b[0;34m\u001b[0m\u001b[0;34m\u001b[0m\u001b[0m\n\u001b[0;32m----> 2\u001b[0;31m \u001b[0mprint\u001b[0m\u001b[0;34m(\u001b[0m\u001b[0mx\u001b[0m\u001b[0;34m)\u001b[0m\u001b[0;34m\u001b[0m\u001b[0;34m\u001b[0m\u001b[0m\n\u001b[0m",
            "\u001b[0;31mNameError\u001b[0m: name 'x' is not defined"
          ]
        }
      ]
    },
    {
      "cell_type": "code",
      "source": [
        "#name\n",
        "try:\n",
        "  print(x)\n",
        "except NameError as ne:\n",
        "  print(\"exception occurred\",ne)\n",
        "print(\"excecuted\")"
      ],
      "metadata": {
        "colab": {
          "base_uri": "https://localhost:8080/"
        },
        "id": "_HCIxsaQGeGV",
        "outputId": "fe308a1f-024f-4928-e90c-ed4f592434ce"
      },
      "execution_count": 11,
      "outputs": [
        {
          "output_type": "stream",
          "name": "stdout",
          "text": [
            "exception occurred name 'x' is not defined\n",
            "excecuted\n"
          ]
        }
      ]
    },
    {
      "cell_type": "code",
      "source": [
        "#value error\n",
        "a=\"25 xyz\"\n",
        "print(int(a))"
      ],
      "metadata": {
        "colab": {
          "base_uri": "https://localhost:8080/",
          "height": 200
        },
        "id": "iLuW9c_QHB89",
        "outputId": "7ae5dcfa-8164-4e1d-e3ee-4952031b04ec"
      },
      "execution_count": 13,
      "outputs": [
        {
          "output_type": "error",
          "ename": "ValueError",
          "evalue": "ignored",
          "traceback": [
            "\u001b[0;31m---------------------------------------------------------------------------\u001b[0m",
            "\u001b[0;31mValueError\u001b[0m                                Traceback (most recent call last)",
            "\u001b[0;32m<ipython-input-13-d7f61ebe063d>\u001b[0m in \u001b[0;36m<module>\u001b[0;34m()\u001b[0m\n\u001b[1;32m      1\u001b[0m \u001b[0;31m#value error\u001b[0m\u001b[0;34m\u001b[0m\u001b[0;34m\u001b[0m\u001b[0;34m\u001b[0m\u001b[0m\n\u001b[1;32m      2\u001b[0m \u001b[0ma\u001b[0m\u001b[0;34m=\u001b[0m\u001b[0;34m\"25 xyz\"\u001b[0m\u001b[0;34m\u001b[0m\u001b[0;34m\u001b[0m\u001b[0m\n\u001b[0;32m----> 3\u001b[0;31m \u001b[0mprint\u001b[0m\u001b[0;34m(\u001b[0m\u001b[0mint\u001b[0m\u001b[0;34m(\u001b[0m\u001b[0ma\u001b[0m\u001b[0;34m)\u001b[0m\u001b[0;34m)\u001b[0m\u001b[0;34m\u001b[0m\u001b[0;34m\u001b[0m\u001b[0m\n\u001b[0m",
            "\u001b[0;31mValueError\u001b[0m: invalid literal for int() with base 10: '25 xyz'"
          ]
        }
      ]
    },
    {
      "cell_type": "code",
      "source": [
        "#value erroe\n",
        "a='25 xyz'\n",
        "try:\n",
        "  print(int(a))\n",
        "except ValueError as e:\n",
        "  print(e)"
      ],
      "metadata": {
        "colab": {
          "base_uri": "https://localhost:8080/"
        },
        "id": "lbAziLfwHTRV",
        "outputId": "d3f3ab95-60ee-4aca-c8d4-9400ab94110a"
      },
      "execution_count": 14,
      "outputs": [
        {
          "output_type": "stream",
          "name": "stdout",
          "text": [
            "invalid literal for int() with base 10: '25 xyz'\n"
          ]
        }
      ]
    },
    {
      "cell_type": "code",
      "source": [
        "#exception handling\n",
        "#2003\n",
        "class INVALIDSTUDENTID(Exception):\n",
        "  pass\n",
        "stid=input(\"enter student id\")\n",
        "try:\n",
        "  if stid[:4]!=\"2003\":\n",
        "    raise INVALIDSTUDENTID\n",
        "except INVALIDSTUDENTID:\n",
        "  print(\"error raised due to invalid details\")\n",
        "print(\"details verified\")\n"
      ],
      "metadata": {
        "colab": {
          "base_uri": "https://localhost:8080/"
        },
        "id": "c4kshrdrHaqI",
        "outputId": "db1680a1-a07b-4b5a-dc7a-65e6aef269dc"
      },
      "execution_count": 15,
      "outputs": [
        {
          "output_type": "stream",
          "name": "stdout",
          "text": [
            "enter student id21-8\n",
            "error raised due to invalid details\n",
            "details verified\n"
          ]
        }
      ]
    },
    {
      "cell_type": "code",
      "source": [
        "class INVALIDSTUDENTID(Exception):\n",
        "  def __str__(self):\n",
        "    return \"ERROR RAISED\"\n",
        "stid=input(\"enter student id\")\n",
        "try:\n",
        "  if stid[:4]!=\"2003\":\n",
        "    raise INVALIDSTUDENTID \n",
        "except INVALIDSTUDENTID as invalid:\n",
        "  print(invalid)\n",
        "print(\"details verified\")\n"
      ],
      "metadata": {
        "colab": {
          "base_uri": "https://localhost:8080/"
        },
        "id": "KASfM1dpIQXE",
        "outputId": "559356df-5591-42ef-dc59-92fddf896755"
      },
      "execution_count": 22,
      "outputs": [
        {
          "output_type": "stream",
          "name": "stdout",
          "text": [
            "enter student id200345\n",
            "details verified\n"
          ]
        }
      ]
    },
    {
      "cell_type": "markdown",
      "source": [
        "#implement exception handling for age of voter"
      ],
      "metadata": {
        "id": "bTPFdWXLJCm6"
      }
    },
    {
      "cell_type": "code",
      "source": [
        "#implement exception handling for age of voter\n",
        "class InvalidAgeException(Exception):\n",
        "  pass\n",
        "age=int(input(\"Enter your Age \"))\n",
        "try:\n",
        "  if age<18:\n",
        "     raise InvalidAgeException\n",
        "  else:\n",
        "    print(\"you are eligible to vote\")\n",
        "except InvalidAgeException:\n",
        "  print(\"Error raised-you are not eligible to vote\")\n",
        "print(\"your details are verified\")"
      ],
      "metadata": {
        "colab": {
          "base_uri": "https://localhost:8080/"
        },
        "id": "RmSdmdZbI8Ct",
        "outputId": "f6653294-b094-4b87-fff8-22d4c9304a10"
      },
      "execution_count": 25,
      "outputs": [
        {
          "output_type": "stream",
          "name": "stdout",
          "text": [
            "Enter your Age 12\n",
            "Error raised-you are not eligible to vote\n",
            "your details are verified\n"
          ]
        }
      ]
    },
    {
      "cell_type": "code",
      "source": [
        "f=open(\"sample1.txt\",\"x\")\n",
        "f=open(\"sample1.txt\",\"w\")\n",
        "f.write(\"WELCOME\")\n",
        "f.close()\n",
        "f=open(\"sample1.txt\",\"r\")\n",
        "print(f.read())\n",
        "f.close()\n"
      ],
      "metadata": {
        "colab": {
          "base_uri": "https://localhost:8080/"
        },
        "id": "MohtKJSgJZqr",
        "outputId": "44d0825b-7917-49d9-8527-39fb2cae27dc"
      },
      "execution_count": 27,
      "outputs": [
        {
          "output_type": "stream",
          "name": "stdout",
          "text": [
            "WELCOME\n"
          ]
        }
      ]
    },
    {
      "cell_type": "code",
      "source": [
        "import os\n",
        "os.remove(\"sample.txt\")\n",
        "f=open(\"sample1.txt\",\"r\")\n"
      ],
      "metadata": {
        "id": "jcBelFwzKqBS"
      },
      "execution_count": 28,
      "outputs": []
    },
    {
      "cell_type": "code",
      "source": [
        "print(f.read(3))#reads until 3 shars\n",
        "print(f.tell())#tells where cursor is\n",
        "print(f.seek(2))#moves cursor to desired position\n",
        "print(f.seek(0))\n",
        "print(f.readline())#reads first line of file\n",
        "print(f.readlines())#displays all lines\n",
        "f.close()\n"
      ],
      "metadata": {
        "colab": {
          "base_uri": "https://localhost:8080/"
        },
        "id": "FpwBb191K7kT",
        "outputId": "5e324029-eb86-496d-abcb-307a7a7062ba"
      },
      "execution_count": 29,
      "outputs": [
        {
          "output_type": "stream",
          "name": "stdout",
          "text": [
            "WEL\n",
            "3\n",
            "2\n",
            "0\n",
            "WELCOME\n",
            "[]\n"
          ]
        }
      ]
    },
    {
      "cell_type": "markdown",
      "source": [
        "#copy paste"
      ],
      "metadata": {
        "id": "2xgLnoHsMvOo"
      }
    },
    {
      "cell_type": "code",
      "source": [
        "f1=open(\"f1.txt\",\"x\")\n",
        "f2=open(\"f2.txt\",\"x\")\n",
        "f1=open(\"f1.txt\",\"w\")\n",
        "f1.write(\"COPYPASTE\")\n",
        "f1.close()\n",
        "f1=open(\"f1.txt\",\"r\")\n",
        "temp=f1.read()\n",
        "f1.close()\n",
        "f2=open(\"f2.txt\",\"w\")\n",
        "f2.write(temp)\n",
        "f2.close()"
      ],
      "metadata": {
        "id": "WrBrXYsFMlOK"
      },
      "execution_count": 30,
      "outputs": []
    },
    {
      "cell_type": "code",
      "source": [
        "import pickle\n",
        "mylist=['a','b','c','d']\n",
        "f3=open(\"datafile1.txt\",\"wb\")\n",
        "pickle.dump(mylist,f3)\n",
        "f3.close()"
      ],
      "metadata": {
        "id": "gM_ObuPnMy8N"
      },
      "execution_count": 31,
      "outputs": []
    },
    {
      "cell_type": "markdown",
      "source": [
        "#unpickling"
      ],
      "metadata": {
        "id": "Lc9W4u_UNjb3"
      }
    },
    {
      "cell_type": "code",
      "source": [
        "import pickle\n",
        "pickle_off=open(\"datafile1.txt\",\"rb\")\n",
        "e=pickle.load(pickle_off)\n",
        "print(e)"
      ],
      "metadata": {
        "colab": {
          "base_uri": "https://localhost:8080/"
        },
        "id": "Zuv4N84nNVsX",
        "outputId": "9676b184-101f-4256-d099-a2c0a64d4054"
      },
      "execution_count": 32,
      "outputs": [
        {
          "output_type": "stream",
          "name": "stdout",
          "text": [
            "['a', 'b', 'c', 'd']\n"
          ]
        }
      ]
    },
    {
      "cell_type": "markdown",
      "source": [
        "#pickling"
      ],
      "metadata": {
        "id": "91g0JWqaNf4J"
      }
    },
    {
      "cell_type": "code",
      "source": [
        "import pickle\n",
        "mylist=['a','b','c','d']\n",
        "with open(\"datafile2.txt\",\"wb\") as f4:\n",
        "  pickle.dump(mylist,f4)"
      ],
      "metadata": {
        "id": "fC4H7Jg-Na5_"
      },
      "execution_count": 33,
      "outputs": []
    },
    {
      "cell_type": "markdown",
      "source": [
        "#unpickling"
      ],
      "metadata": {
        "id": "7_ucd4loN0sI"
      }
    },
    {
      "cell_type": "code",
      "source": [
        "import pickle\n",
        "pickle_off=open(\"datafile2.txt\",\"rb\")\n",
        "e=pickle.load(pickle_off)\n",
        "print(e)"
      ],
      "metadata": {
        "colab": {
          "base_uri": "https://localhost:8080/"
        },
        "id": "u8MbN7FjNnvo",
        "outputId": "e53de057-f3b5-4bf9-8be9-f819672f1370"
      },
      "execution_count": 34,
      "outputs": [
        {
          "output_type": "stream",
          "name": "stdout",
          "text": [
            "['a', 'b', 'c', 'd']\n"
          ]
        }
      ]
    },
    {
      "cell_type": "markdown",
      "source": [
        "#regular expressions"
      ],
      "metadata": {
        "id": "kEtvtfR0OAnC"
      }
    },
    {
      "cell_type": "code",
      "source": [
        "import re\n",
        "pattern=r\"COOKIE\"\n",
        "sequence=(\"Cookie\")\n",
        "if re.match(pattern,sequence):\n",
        "  print(\"MATCHING\")\n",
        "else:\n",
        "  print(\"NOT A MATCH\")"
      ],
      "metadata": {
        "colab": {
          "base_uri": "https://localhost:8080/"
        },
        "id": "_6iik_IHN3pj",
        "outputId": "d57d3226-3dc6-4efb-e8be-c74d5b87f9a0"
      },
      "execution_count": 35,
      "outputs": [
        {
          "output_type": "stream",
          "name": "stdout",
          "text": [
            "NOT A MATCH\n"
          ]
        }
      ]
    },
    {
      "cell_type": "code",
      "source": [
        "import re\n",
        "ph_no=input(\"enter mobile number\")\n",
        "print(re.search(r'\\d{10}',ph_no).group())"
      ],
      "metadata": {
        "colab": {
          "base_uri": "https://localhost:8080/"
        },
        "id": "ein-oxHZOFPN",
        "outputId": "25f5b46e-bf0e-4a20-89fb-585fa5e43858"
      },
      "execution_count": 36,
      "outputs": [
        {
          "output_type": "stream",
          "name": "stdout",
          "text": [
            "enter mobile number6309819414\n",
            "6309819414\n"
          ]
        }
      ]
    },
    {
      "cell_type": "code",
      "source": [
        "mail=input(\"enter a mail\")\n",
        "str1=r'[A-Za-z0-9._-]+@[A-Za-z0-9.-]+[A-Z|a-z]{2,}'\n",
        "print(re.search(str1,mail).group())\n"
      ],
      "metadata": {
        "colab": {
          "base_uri": "https://localhost:8080/"
        },
        "id": "cXPG2lZQOT_q",
        "outputId": "c0a50e26-c0f5-471a-9a7b-26629e7b6ca7"
      },
      "execution_count": 37,
      "outputs": [
        {
          "output_type": "stream",
          "name": "stdout",
          "text": [
            "enter a mailabcdegh@gmail.com\n",
            "abcdegh@gmail.com\n"
          ]
        }
      ]
    },
    {
      "cell_type": "markdown",
      "source": [
        "team wise task to check if letter starts with particular alphabet in file"
      ],
      "metadata": {
        "id": "M13znMWlOp3Y"
      }
    },
    {
      "cell_type": "code",
      "source": [
        "os.remove(\"ruby.txt\")#removes file if already any same name exisit\n",
        "\n",
        "x=input(\"alphabet to check the starting letter of file\")\n",
        "f1=open(\"ruby.txt\",\"x\")\n",
        "f1=open(\"ruby.txt\",\"w\")\n",
        "f1.write(\"AI&ML BOOTCAMP\")\n",
        "f1.close()\n",
        "f1=open(\"ruby.txt\",\"r\")\n",
        "f2=open(\"f2.txt\",\"w\")\n",
        "temp=(f1.read(1))             #to store 1st letter of the of the line in file\n",
        "print(temp)\n",
        "if x==temp:\n",
        "  print(\"yes its start with pariticular mentioned alphabet\",x)\n",
        "  infor=f1.read()     #after the condition is true data is copied to file2\n",
        "  f2.write(infor)\n",
        "  \n",
        "else:\n",
        "  print(\"does not start with aphabet\")\n",
        "\n",
        "\n",
        "\n",
        "f.close()"
      ],
      "metadata": {
        "colab": {
          "base_uri": "https://localhost:8080/"
        },
        "id": "l2lyE4PcOwev",
        "outputId": "e5bce094-1add-4c58-e4da-3be6a40b0d9f"
      },
      "execution_count": 57,
      "outputs": [
        {
          "output_type": "stream",
          "name": "stdout",
          "text": [
            "alphabet to check the starting letter of fileA\n",
            "A\n",
            "yes its start with pariticular mentioned alphabet A\n"
          ]
        }
      ]
    },
    {
      "cell_type": "code",
      "source": [
        "#to check if word starts with particular alphabet in file\n",
        "a=open(\"files.txt\",\"x\")\n",
        " a=open(\"files.txt\",\"w\")\n",
        "a.write(\"Apple\\nBanana\\nAvacado\\nAlmond\\nGrapes\\nMango\\nOrange\")\n",
        "a.close()\n",
        "a=open(\"files.txt\",\"r\")\n",
        "print(a.read())\n",
        "a.close()\n",
        "letter=input(\"enter : \")\n",
        "with open(\"files.txt\",'r') as x:\n",
        "    for i in x:\n",
        "        for y in i.split():\n",
        "            print(y,'-',y.startswith(letter,0))\n",
        "with open(\"files.txt\",'r') as x:      \n",
        "    print(\"\\nWords starts with \",letter)\n",
        "    for i in x:\n",
        "        for y in i.split():\n",
        "            \n",
        "            if y.startswith(letter,0):\n",
        "                print(y)"
      ],
      "metadata": {
        "id": "aEUsx0O5AcFa"
      },
      "execution_count": null,
      "outputs": []
    }
  ]
}