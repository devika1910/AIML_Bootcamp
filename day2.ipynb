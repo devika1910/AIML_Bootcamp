{
  "nbformat": 4,
  "nbformat_minor": 0,
  "metadata": {
    "colab": {
      "name": "day2.ipynb",
      "provenance": [],
      "authorship_tag": "ABX9TyP9AZGJ4eTfSLgiTTX65vrt",
      "include_colab_link": true
    },
    "kernelspec": {
      "name": "python3",
      "display_name": "Python 3"
    },
    "language_info": {
      "name": "python"
    }
  },
  "cells": [
    {
      "cell_type": "markdown",
      "metadata": {
        "id": "view-in-github",
        "colab_type": "text"
      },
      "source": [
        "<a href=\"https://colab.research.google.com/github/devika1910/AIML_Bootcamp/blob/main/day2.ipynb\" target=\"_parent\"><img src=\"https://colab.research.google.com/assets/colab-badge.svg\" alt=\"Open In Colab\"/></a>"
      ]
    },
    {
      "cell_type": "code",
      "source": [
        "#if else\n",
        "var=100\n",
        "if var>0:\n",
        "  print(\"true\")\n",
        "  print(var)\n",
        "var1=0\n",
        "if var1>0:\n",
        "  print(\"True\")\n",
        "  print(var1)"
      ],
      "metadata": {
        "colab": {
          "base_uri": "https://localhost:8080/"
        },
        "id": "nSYEPTpM60Ni",
        "outputId": "98142a1f-90b9-4f1e-9e41-afb3c5a33752"
      },
      "execution_count": null,
      "outputs": [
        {
          "output_type": "stream",
          "name": "stdout",
          "text": [
            "true\n",
            "100\n"
          ]
        }
      ]
    },
    {
      "cell_type": "code",
      "source": [
        "#ifelse statement\n",
        "\n",
        "var2=-1\n",
        "if var2>0:\n",
        "  print(\"True\")\n",
        "  print(var2)\n",
        "else:\n",
        "  print(\"False\")\n",
        "  print(var2)"
      ],
      "metadata": {
        "colab": {
          "base_uri": "https://localhost:8080/"
        },
        "id": "m_3ZmgSh694K",
        "outputId": "bdf3edf6-5785-4f90-953b-b0f00065fa92"
      },
      "execution_count": null,
      "outputs": [
        {
          "output_type": "stream",
          "name": "stdout",
          "text": [
            "False\n",
            "-1\n"
          ]
        }
      ]
    },
    {
      "cell_type": "code",
      "source": [
        "#nested if statements\n",
        "#bus tickets\n",
        "age=int(input(\"ENTER AGE\"))\n",
        "if age>12 and age<=18:\n",
        "  if age<15:\n",
        "    print(\"Quarter ticket implies\")\n",
        "  elif age==15:\n",
        "    print(\"quarter ticket+ discount\")\n",
        "  else:\n",
        "    print(\"Half ticket\")\n",
        "elif age>=19 and age<=60:\n",
        "  print(\"full ticket\")\n",
        "elif age>60:\n",
        "  print(\"Full ticket + discount\")\n",
        "else:\n",
        "  print(\"no ticket\")"
      ],
      "metadata": {
        "colab": {
          "base_uri": "https://localhost:8080/"
        },
        "id": "HRzsg8dW7Fd1",
        "outputId": "9c18e1c7-a445-4820-daee-bed4b3aa132a"
      },
      "execution_count": null,
      "outputs": [
        {
          "output_type": "stream",
          "name": "stdout",
          "text": [
            "ENTER AGE18\n",
            "Half ticket\n"
          ]
        }
      ]
    },
    {
      "cell_type": "code",
      "source": [
        "#for loop\n",
        "number=[6,5,3,8,4,2,5,4,11]\n",
        "sum=0\n",
        "for val in number:\n",
        "  sum=sum+val\n",
        "print(\"the sum is\",sum)\n",
        "print(\"\\n\")\n",
        "for i in range(1,11):\n",
        "  print(i)\n",
        "for i in range(1,11,2):\n",
        " print(\"\\n\")\n",
        " print(i)\n",
        " x=[2,3,4,5,6,7,8]\n",
        "y=[]\n",
        "for a in x:\n",
        "  if a%2==0:\n",
        "    y.append(a)\n",
        "print(\"\\n\")\n",
        "print(y)\n"
      ],
      "metadata": {
        "colab": {
          "base_uri": "https://localhost:8080/"
        },
        "id": "xcgNE9oY7P6V",
        "outputId": "334dda4c-b4dd-4278-948b-ce947105ba30"
      },
      "execution_count": null,
      "outputs": [
        {
          "output_type": "stream",
          "name": "stdout",
          "text": [
            "the sum is 48\n",
            "\n",
            "\n",
            "1\n",
            "2\n",
            "3\n",
            "4\n",
            "5\n",
            "6\n",
            "7\n",
            "8\n",
            "9\n",
            "10\n",
            "\n",
            "\n",
            "1\n",
            "\n",
            "\n",
            "3\n",
            "\n",
            "\n",
            "5\n",
            "\n",
            "\n",
            "7\n",
            "\n",
            "\n",
            "9\n",
            "\n",
            "\n",
            "[2, 4, 6, 8]\n"
          ]
        }
      ]
    },
    {
      "cell_type": "code",
      "source": [
        ""
      ],
      "metadata": {
        "id": "LusFOw7R78Zn"
      },
      "execution_count": null,
      "outputs": []
    },
    {
      "cell_type": "code",
      "source": [
        "def A(a,b=1,c=2):\n",
        "  return a+b+c\n",
        "print(A(3))\n",
        "print(A(4,4,1))\n",
        "print(A(2,2))"
      ],
      "metadata": {
        "colab": {
          "base_uri": "https://localhost:8080/"
        },
        "id": "oS8si8T9biNM",
        "outputId": "9fed92ea-a037-4c62-c618-b01f8547969b"
      },
      "execution_count": null,
      "outputs": [
        {
          "output_type": "stream",
          "name": "stdout",
          "text": [
            "6\n",
            "9\n",
            "6\n"
          ]
        }
      ]
    },
    {
      "cell_type": "code",
      "source": [
        "def A(a,b=1,c=2):\n",
        "  return a+b+c\n",
        "print(A(a=2,b=3))\n",
        "print(A(c=3,b=2,a=1))"
      ],
      "metadata": {
        "colab": {
          "base_uri": "https://localhost:8080/"
        },
        "id": "O_I4_tqPcL48",
        "outputId": "91d2027c-6d47-4358-9f41-549ff67f602e"
      },
      "execution_count": null,
      "outputs": [
        {
          "output_type": "stream",
          "name": "stdout",
          "text": [
            "7\n",
            "6\n"
          ]
        }
      ]
    },
    {
      "cell_type": "code",
      "source": [
        "for l in 'Python':\n",
        "  if l == 'h':\n",
        "    break\n",
        "  print(\"Current letter:\",l)\n",
        "int1=10\n",
        "while(int1>0):\n",
        "  print(\"current value:\",int1)\n",
        "  int1=int1-1\n",
        "  if int1==5:\n",
        "    break\n"
      ],
      "metadata": {
        "colab": {
          "base_uri": "https://localhost:8080/"
        },
        "id": "6aKXUMI0_b7d",
        "outputId": "cf44586d-c104-429a-a971-f4b127ff55e8"
      },
      "execution_count": null,
      "outputs": [
        {
          "output_type": "stream",
          "name": "stdout",
          "text": [
            "Current letter: P\n",
            "Current letter: y\n",
            "Current letter: t\n",
            "current value: 10\n",
            "current value: 9\n",
            "current value: 8\n",
            "current value: 7\n",
            "current value: 6\n"
          ]
        }
      ]
    },
    {
      "cell_type": "code",
      "source": [
        "for l in 'Python':\n",
        "  if l == 'h':\n",
        "    continue\n",
        "  print(\"Current letter:\",l)\n",
        "int1=10\n",
        "while(int1>0):\n",
        "  print(\"current value:\",int1)\n",
        "  int1=int1-1\n",
        "  if int1==5:\n",
        "    continue"
      ],
      "metadata": {
        "colab": {
          "base_uri": "https://localhost:8080/"
        },
        "id": "Aw3uaJCb_gdT",
        "outputId": "655b882a-4db9-4d36-f18d-b46fa5997941"
      },
      "execution_count": null,
      "outputs": [
        {
          "output_type": "stream",
          "name": "stdout",
          "text": [
            "Current letter: P\n",
            "Current letter: y\n",
            "Current letter: t\n",
            "Current letter: o\n",
            "Current letter: n\n",
            "current value: 10\n",
            "current value: 9\n",
            "current value: 8\n",
            "current value: 7\n",
            "current value: 6\n",
            "current value: 5\n",
            "current value: 4\n",
            "current value: 3\n",
            "current value: 2\n",
            "current value: 1\n"
          ]
        }
      ]
    },
    {
      "cell_type": "code",
      "source": [
        "#pass\n",
        "for l in 'Python':\n",
        "  if l == 'h':\n",
        "    pass\n",
        "  print(\"Current letter:\",l)\n",
        "int1=10\n",
        "while(int1>0):\n",
        "  print(\"current value:\",int1)\n",
        "  int1=int1-1\n",
        "  if int1==5:\n",
        "    print(\"this is pass block\")\n",
        "    print(\"this is pass block\")\n"
      ],
      "metadata": {
        "colab": {
          "base_uri": "https://localhost:8080/"
        },
        "id": "qoISl6LT_moA",
        "outputId": "53a5ca9f-c821-4239-c115-f319f9bdc2ce"
      },
      "execution_count": null,
      "outputs": [
        {
          "output_type": "stream",
          "name": "stdout",
          "text": [
            "Current letter: P\n",
            "Current letter: y\n",
            "Current letter: t\n",
            "Current letter: h\n",
            "Current letter: o\n",
            "Current letter: n\n",
            "current value: 10\n",
            "current value: 9\n",
            "current value: 8\n",
            "current value: 7\n",
            "current value: 6\n",
            "this is pass block\n",
            "this is pass block\n",
            "current value: 5\n",
            "current value: 4\n",
            "current value: 3\n",
            "current value: 2\n",
            "current value: 1\n"
          ]
        }
      ]
    },
    {
      "cell_type": "code",
      "source": [
        "#keyword\n",
        "def A(a,b=1,c=2):\n",
        "  return a+b+c\n",
        "print(A(a=2,b=3))\n",
        "print(A(c=3,b=2,a=1))"
      ],
      "metadata": {
        "colab": {
          "base_uri": "https://localhost:8080/"
        },
        "id": "L2vUT6sZAGDp",
        "outputId": "44aabd46-ff03-4aa0-c1bc-f682bc4cc574"
      },
      "execution_count": null,
      "outputs": [
        {
          "output_type": "stream",
          "name": "stdout",
          "text": [
            "7\n",
            "6\n"
          ]
        }
      ]
    },
    {
      "cell_type": "markdown",
      "source": [
        "positional"
      ],
      "metadata": {
        "id": "GD8hTYLwcjxI"
      }
    },
    {
      "cell_type": "code",
      "source": [
        "def add(a,b,c):\n",
        "  return a+b+c\n",
        "print(add(10,20,30))\n",
        "print(add(10,b=20,c=30))\n"
      ],
      "metadata": {
        "colab": {
          "base_uri": "https://localhost:8080/"
        },
        "id": "C_iLzTnIclyc",
        "outputId": "f5aef9ea-d0d6-47ec-c260-2edb91e89e01"
      },
      "execution_count": null,
      "outputs": [
        {
          "output_type": "stream",
          "name": "stdout",
          "text": [
            "60\n",
            "60\n"
          ]
        }
      ]
    },
    {
      "cell_type": "markdown",
      "source": [
        "arbitary keywords"
      ],
      "metadata": {
        "id": "L4XUxv_hdHUZ"
      }
    },
    {
      "cell_type": "code",
      "source": [
        "def key_arg(**kwargs):\n",
        "  return kwargs\n",
        "my_dict=key_arg(apple=10,oranges=20,grapes=30)\n",
        "print(my_dict['apple'])\n",
        "print(my_dict)"
      ],
      "metadata": {
        "colab": {
          "base_uri": "https://localhost:8080/"
        },
        "id": "lhKhLqVOdKG-",
        "outputId": "b9f2ebe9-667c-4833-af4d-0d1bae2d46e7"
      },
      "execution_count": null,
      "outputs": [
        {
          "output_type": "stream",
          "name": "stdout",
          "text": [
            "10\n",
            "{'apple': 10, 'oranges': 20, 'grapes': 30}\n"
          ]
        }
      ]
    },
    {
      "cell_type": "markdown",
      "source": [
        "arbitary postional"
      ],
      "metadata": {
        "id": "-jJJUPgQdp1x"
      }
    },
    {
      "cell_type": "code",
      "source": [
        "def add_num(*n):\n",
        " print(n)\n",
        " print(sum(n))\n",
        "add_num(5,11)"
      ],
      "metadata": {
        "colab": {
          "base_uri": "https://localhost:8080/"
        },
        "id": "cJup2GpndtqH",
        "outputId": "044c9129-8bf0-44ba-f05b-418f24acc4b0"
      },
      "execution_count": null,
      "outputs": [
        {
          "output_type": "stream",
          "name": "stdout",
          "text": [
            "(5, 11)\n",
            "16\n"
          ]
        }
      ]
    },
    {
      "cell_type": "markdown",
      "source": [
        "higher order function"
      ],
      "metadata": {
        "id": "ymAnE9ZFenm3"
      }
    },
    {
      "cell_type": "code",
      "source": [
        "def shout(text):\n",
        "  return text.upper()\n",
        "def whisper(text):\n",
        "  return text.lower()\n",
        "\n",
        "def explain(func):\n",
        "  greet=func(\"hi,iam higher order function\")\n",
        "  print(greet)\n",
        "\n",
        "explain(shout)\n",
        "explain(whisper)"
      ],
      "metadata": {
        "colab": {
          "base_uri": "https://localhost:8080/"
        },
        "id": "FUU4qwvTerjY",
        "outputId": "05c78861-989d-43fb-8b6c-2da5d7a53737"
      },
      "execution_count": null,
      "outputs": [
        {
          "output_type": "stream",
          "name": "stdout",
          "text": [
            "HI,IAM HIGHER ORDER FUNCTION\n",
            "hi,iam higher order function\n"
          ]
        }
      ]
    },
    {
      "cell_type": "markdown",
      "source": [
        "lambda"
      ],
      "metadata": {
        "id": "ZZVg_2pMfp5E"
      }
    },
    {
      "cell_type": "code",
      "source": [
        "def incr(x):\n",
        "  x=x+1\n",
        "  return x\n",
        "print(incr(4))\n",
        "\n",
        "print((lambda x:x+1)(4))\n",
        "\n",
        "res=lambda x:x+1\n",
        "print(res(4))"
      ],
      "metadata": {
        "colab": {
          "base_uri": "https://localhost:8080/"
        },
        "id": "mjOfp3c-frr7",
        "outputId": "6c7ca914-7ba1-443c-a30c-55f54a97fa06"
      },
      "execution_count": null,
      "outputs": [
        {
          "output_type": "stream",
          "name": "stdout",
          "text": [
            "5\n",
            "5\n",
            "5\n"
          ]
        }
      ]
    },
    {
      "cell_type": "code",
      "source": [
        "print((lambda x,y:x**y)(2,2))\n",
        "print((lambda x,y:x+y)(2,3))"
      ],
      "metadata": {
        "colab": {
          "base_uri": "https://localhost:8080/"
        },
        "id": "mcqtjYNM8Q83",
        "outputId": "4e2abd54-c6c3-48c6-8771-86e976dd7392"
      },
      "execution_count": null,
      "outputs": [
        {
          "output_type": "stream",
          "name": "stdout",
          "text": [
            "4\n",
            "5\n"
          ]
        }
      ]
    },
    {
      "cell_type": "code",
      "source": [
        "li=[1,2,3,4,5]\n",
        "#res=lambda x:x+2\n",
        "#print(res(li))\n",
        "def inc(num):\n",
        "  return num+2\n",
        "res_list=list(map(inc,li))\n",
        "print(res_list)\n",
        "res_list1=list(map(lambda x:x+2,li))\n",
        "print(res_list)\n",
        "print(list(map(lambda x:x+2,li)))\n"
      ],
      "metadata": {
        "colab": {
          "base_uri": "https://localhost:8080/"
        },
        "id": "QYbjOKRSAdU9",
        "outputId": "ceaeb5c2-4d4c-42a6-8e0d-2806561b5f3e"
      },
      "execution_count": null,
      "outputs": [
        {
          "output_type": "stream",
          "name": "stdout",
          "text": [
            "[3, 4, 5, 6, 7]\n",
            "[3, 4, 5, 6, 7]\n",
            "[3, 4, 5, 6, 7]\n"
          ]
        }
      ]
    },
    {
      "cell_type": "code",
      "source": [
        "def eor(num):\n",
        "  if num%2==0:\n",
        "    return \"the number {} is even\".format(num)\n",
        "  else:\n",
        "    return \"the number {} is odd\".format(num)\n",
        "eor(20)"
      ],
      "metadata": {
        "colab": {
          "base_uri": "https://localhost:8080/",
          "height": 36
        },
        "id": "DDQNj0bjAo9A",
        "outputId": "d955bb4c-d9f8-420e-e639-6b4a10005cf5"
      },
      "execution_count": null,
      "outputs": [
        {
          "output_type": "execute_result",
          "data": {
            "text/plain": [
              "'the number 20 is even'"
            ],
            "application/vnd.google.colaboratory.intrinsic+json": {
              "type": "string"
            }
          },
          "metadata": {},
          "execution_count": 30
        }
      ]
    },
    {
      "cell_type": "code",
      "source": [
        "l=[1,2,3,4,5,6,7,8,9,10]\n",
        "list(map(eor,l))"
      ],
      "metadata": {
        "colab": {
          "base_uri": "https://localhost:8080/"
        },
        "id": "eXs6UffXAxzP",
        "outputId": "149d8ee1-867a-435e-bddc-d53cc1db3650"
      },
      "execution_count": null,
      "outputs": [
        {
          "output_type": "execute_result",
          "data": {
            "text/plain": [
              "['the number 1 is odd',\n",
              " 'the number 2 is even',\n",
              " 'the number 3 is odd',\n",
              " 'the number 4 is even',\n",
              " 'the number 5 is odd',\n",
              " 'the number 6 is even',\n",
              " 'the number 7 is odd',\n",
              " 'the number 8 is even',\n",
              " 'the number 9 is odd',\n",
              " 'the number 10 is even']"
            ]
          },
          "metadata": {},
          "execution_count": 31
        }
      ]
    },
    {
      "cell_type": "code",
      "source": [
        "li=['apple','banana','grapes']\n",
        "r=list(map(lambda x:x.capitalize(),li))\n",
        "print(r)"
      ],
      "metadata": {
        "colab": {
          "base_uri": "https://localhost:8080/"
        },
        "id": "gB7aFsrHAz8J",
        "outputId": "5a738e54-d8d5-4d9a-f9ca-b0c05bf6bc7c"
      },
      "execution_count": null,
      "outputs": [
        {
          "output_type": "stream",
          "name": "stdout",
          "text": [
            "['Apple', 'Banana', 'Grapes']\n"
          ]
        }
      ]
    },
    {
      "cell_type": "code",
      "source": [
        "def odd_num(n):\n",
        "  if n%2!=0:\n",
        "    return n\n",
        "my_list=[9,26,35,-2,50]\n",
        "print(list(filter(odd_num,my_list)))\n",
        "my_list=[18,94,33,16,99,22,56,107,34]\n",
        "temp=list(filter(lambda x:x%2==0,my_list))\n",
        "print(temp)\n"
      ],
      "metadata": {
        "colab": {
          "base_uri": "https://localhost:8080/"
        },
        "id": "eNA8i-k7A5kg",
        "outputId": "097b20f9-ba08-48c0-df4e-6329ec21ec90"
      },
      "execution_count": null,
      "outputs": [
        {
          "output_type": "stream",
          "name": "stdout",
          "text": [
            "[9, 35]\n",
            "[18, 94, 16, 22, 56, 34]\n"
          ]
        }
      ]
    },
    {
      "cell_type": "code",
      "source": [
        "#math module\n",
        "import math as m\n",
        "print(m.pi)\n",
        "print(m.e)\n",
        "print(m.sqrt(4))\n",
        "print(m.factorial(5))\n",
        "print(m.pow(2,2))\n",
        "print(m.floor(1.4))\n",
        "print(m.tan(5))\n",
        "print(m.log(2))"
      ],
      "metadata": {
        "colab": {
          "base_uri": "https://localhost:8080/"
        },
        "id": "8JkcIaQ0BCt8",
        "outputId": "486b8525-02c5-4d15-d557-c2168b91a151"
      },
      "execution_count": null,
      "outputs": [
        {
          "output_type": "stream",
          "name": "stdout",
          "text": [
            "3.141592653589793\n",
            "2.718281828459045\n",
            "2.0\n",
            "120\n",
            "4.0\n",
            "1\n",
            "-3.380515006246586\n",
            "0.6931471805599453\n"
          ]
        }
      ]
    },
    {
      "cell_type": "code",
      "source": [
        "#sys module\n",
        "import sys\n",
        "print(sys.path)\n",
        "print(sys.version)\n",
        "print(sys.maxsize)\n"
      ],
      "metadata": {
        "colab": {
          "base_uri": "https://localhost:8080/"
        },
        "id": "wRu3VErLBJGZ",
        "outputId": "eb394258-8d0c-437f-99b8-eaf28592dfbb"
      },
      "execution_count": null,
      "outputs": [
        {
          "output_type": "stream",
          "name": "stdout",
          "text": [
            "['', '/content', '/env/python', '/usr/lib/python37.zip', '/usr/lib/python3.7', '/usr/lib/python3.7/lib-dynload', '/usr/local/lib/python3.7/dist-packages', '/usr/lib/python3/dist-packages', '/usr/local/lib/python3.7/dist-packages/IPython/extensions', '/root/.ipython']\n",
            "3.7.13 (default, Apr 24 2022, 01:04:09) \n",
            "[GCC 7.5.0]\n",
            "9223372036854775807\n"
          ]
        }
      ]
    },
    {
      "cell_type": "code",
      "source": [
        "#time module\n",
        "import time\n",
        "print(time.time())\n",
        "print(time.localtime())\n",
        "print(time.asctime())\n",
        "print(time.ctime())\n",
        "print(time.sleep(1.5))"
      ],
      "metadata": {
        "colab": {
          "base_uri": "https://localhost:8080/"
        },
        "id": "s6TFKZ9nBUc3",
        "outputId": "28fa0992-30cf-4a45-c7d5-4925edca7e21"
      },
      "execution_count": null,
      "outputs": [
        {
          "output_type": "stream",
          "name": "stdout",
          "text": [
            "1655206927.014035\n",
            "time.struct_time(tm_year=2022, tm_mon=6, tm_mday=14, tm_hour=11, tm_min=42, tm_sec=7, tm_wday=1, tm_yday=165, tm_isdst=0)\n",
            "Tue Jun 14 11:42:07 2022\n",
            "Tue Jun 14 11:42:07 2022\n",
            "None\n"
          ]
        }
      ]
    },
    {
      "cell_type": "code",
      "source": [
        "#random module\n",
        "import random\n",
        "print(random.randrange(1,50))\n",
        "print(random.randint(1,100))\n",
        "print(random.random())"
      ],
      "metadata": {
        "colab": {
          "base_uri": "https://localhost:8080/"
        },
        "id": "SxEUU9UcBXRq",
        "outputId": "12a368d3-5502-4061-eac6-c10d19164a71"
      },
      "execution_count": null,
      "outputs": [
        {
          "output_type": "stream",
          "name": "stdout",
          "text": [
            "18\n",
            "75\n",
            "0.49461657110942403\n"
          ]
        }
      ]
    },
    {
      "cell_type": "code",
      "source": [
        "import random\n",
        "g_num=random.randint(0,5)\n",
        "g2_num=int(input(\"PREDICT A NUMBER\"))\n",
        "if g2_num==g_num:\n",
        "  print(\"you won\")\n",
        "else:\n",
        " print(\" you lost\")"
      ],
      "metadata": {
        "colab": {
          "base_uri": "https://localhost:8080/"
        },
        "id": "jyLp7qSRBcT-",
        "outputId": "cbaaf016-cf7e-48c0-8c75-edff4d3a7e55"
      },
      "execution_count": null,
      "outputs": [
        {
          "output_type": "stream",
          "name": "stdout",
          "text": [
            "PREDICT A NUMBER3\n",
            "you won\n"
          ]
        }
      ]
    },
    {
      "cell_type": "markdown",
      "source": [
        "Write a python program that remove items that are multiples of 5 from list:\n",
        "li=[1,2,5,6,7,10,15,25,65,78,90]\n",
        "o/p: [1,2,6,7,78]"
      ],
      "metadata": {
        "id": "BY-s1n52CS6l"
      }
    },
    {
      "cell_type": "code",
      "source": [
        "li=[1,2,5,6,7,10,15,25,65,78,90]\n",
        "res=list(filter(lambda x:x%5!=0,li))\n",
        "print(res)"
      ],
      "metadata": {
        "colab": {
          "base_uri": "https://localhost:8080/"
        },
        "id": "QXJpFuQ5CUM-",
        "outputId": "05836d79-8a3e-4223-8f57-6cf82ce3812a"
      },
      "execution_count": null,
      "outputs": [
        {
          "output_type": "stream",
          "name": "stdout",
          "text": [
            "[1, 2, 6, 7, 78]\n"
          ]
        }
      ]
    },
    {
      "cell_type": "markdown",
      "source": [
        "Write a python program that generates desired output from fruits list. Filter out the fruits names that don’t start with ‘A’\n",
        "\n",
        "Fruit=[“Apple”,”Banana”,”Pear”,”Avacado”,”Orange”,”Amla”]\n",
        "Output: [“Apple”,”Avacado”,”Amla”]"
      ],
      "metadata": {
        "id": "HO01cBJ2CnLp"
      }
    },
    {
      "cell_type": "code",
      "source": [
        "fruit=[\"Apple\",\"Banana\",\"Pear\",\"Avacado\",\"Orange\",\"Amla\"]\n",
        "res=list(filter(lambda x:x.startswith('A'),fruit))\n",
        "print(res)"
      ],
      "metadata": {
        "colab": {
          "base_uri": "https://localhost:8080/"
        },
        "id": "W74A0cM5CpGw",
        "outputId": "f5aa300f-1282-45b6-d1d3-2c113f47243f"
      },
      "execution_count": null,
      "outputs": [
        {
          "output_type": "stream",
          "name": "stdout",
          "text": [
            "['Apple', 'Avacado', 'Amla']\n"
          ]
        }
      ]
    },
    {
      "cell_type": "markdown",
      "source": [
        "Write python program that filters a list by removing the elements that not start with vowel. \n",
        "I/P: [‘apple’,’orange’,’grapes’,’ball’,’bat’,’umbrella’]\n",
        "O/P: [‘apple’,’orange’,’umbrella’]"
      ],
      "metadata": {
        "id": "fr_YMsI4C6yY"
      }
    },
    {
      "cell_type": "code",
      "source": [
        "s=['apple','orange','grapes','ball','bat','umbrella']\n",
        "res=list(filter(lambda x:x[0] in ['a','e','i','o','u'] ,s))\n",
        "print(res)"
      ],
      "metadata": {
        "colab": {
          "base_uri": "https://localhost:8080/"
        },
        "id": "MhIEFGH1C8K8",
        "outputId": "060961c6-95fa-45b6-d0a1-b3e4e5c2c23c"
      },
      "execution_count": null,
      "outputs": [
        {
          "output_type": "stream",
          "name": "stdout",
          "text": [
            "['apple', 'orange', 'umbrella']\n"
          ]
        }
      ]
    }
  ]
}